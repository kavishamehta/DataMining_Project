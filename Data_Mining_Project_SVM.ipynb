{
  "nbformat": 4,
  "nbformat_minor": 0,
  "metadata": {
    "colab": {
      "name": "Data_Mining_Project.ipynb",
      "version": "0.3.2",
      "provenance": [],
      "collapsed_sections": []
    },
    "kernelspec": {
      "name": "python3",
      "display_name": "Python 3"
    },
    "accelerator": "GPU"
  },
  "cells": [
    {
      "metadata": {
        "id": "JHqGz03IqRPN",
        "colab_type": "code",
        "outputId": "04ff91fc-5beb-4f60-81e8-9d02c281eb79",
        "colab": {
          "base_uri": "https://localhost:8080/",
          "height": 486
        }
      },
      "cell_type": "code",
      "source": [
        "from google.colab import drive\n",
        "drive.mount('/content/drive')\n",
        "!ls \"/content/drive/My Drive\"\n",
        "path=\"/content/drive/My Drive/\""
      ],
      "execution_count": 0,
      "outputs": [
        {
          "output_type": "stream",
          "text": [
            "Drive already mounted at /content/drive; to attempt to forcibly remount, call drive.mount(\"/content/drive\", force_remount=True).\n",
            " 13bce0104\n",
            " 201811069_Resume.gdoc\n",
            " 201811069_resume.pdf\n",
            " 201811069_Resume.pdf\n",
            "'aadhar card.docx'\n",
            " Apti\n",
            "'assignment data'\n",
            "'Colab Notebooks'\n",
            "'Copy of DM _lab_00.py'\n",
            " CS18S35020085scoreCard.pdf\n",
            " CUB_200_2011\n",
            " Data_Preprocessing.ipynb\n",
            "'DLI C-FX-01 Certificate _ Deep Learning Institute.pdf'\n",
            "'DM _lab_00.py'\n",
            " ex2data1-logistic.xls\n",
            " faceimages.mat\n",
            "'final groups.xlsx'\n",
            " groups\n",
            " image_captioning\n",
            "'IT314-SE 2019 Attendance.gsheet'\n",
            "'IT485 Project Group.xlsx'\n",
            " lab3_2.ipynb\n",
            " lingspam_public\n",
            " lingspam_public.tar.gz\n",
            "'suesha gupta CV.doc'\n",
            "'Suesha Gupta Internship letter.pdf'\n"
          ],
          "name": "stdout"
        }
      ]
    },
    {
      "metadata": {
        "id": "2l-7xX1JxwyQ",
        "colab_type": "code",
        "colab": {}
      },
      "cell_type": "code",
      "source": [
        "%matplotlib inline\n",
        "import matplotlib.pyplot as plt\n",
        "import csv\n",
        "import pandas\n",
        "import sklearn\n",
        "import pickle\n",
        "from wordcloud import WordCloud\n",
        "import pandas as pd\n",
        "import numpy as np\n",
        "import nltk\n",
        "from nltk.corpus import stopwords\n",
        "from sklearn.feature_extraction.text import CountVectorizer, TfidfTransformer\n",
        "from sklearn.tree import DecisionTreeClassifier \n",
        "#from sklearn.learning_curve import learning_curve\n",
        "import glob\n",
        "import errno"
      ],
      "execution_count": 0,
      "outputs": []
    },
    {
      "metadata": {
        "id": "1KsvmNnDygdA",
        "colab_type": "code",
        "colab": {}
      },
      "cell_type": "code",
      "source": [
        "def ret(loc):\n",
        "    path =loc\n",
        "    files = glob.glob(path)\n",
        "    lst=[]\n",
        "    for fname in files:\n",
        "        try:\n",
        "            with open(fname,'r') as f:\n",
        "                lines = f.readlines()\n",
        "                str = '' \n",
        "                for i in range(2,len(lines)):\n",
        "                    str += lines[i].rstrip('\\n') \n",
        "                    lst.append(str)\n",
        "                f.close()\n",
        "        except IOError as exc:\n",
        "            if exc.errno != errno.EISDIR:\n",
        "                raise\n",
        "    return lst"
      ],
      "execution_count": 0,
      "outputs": []
    },
    {
      "metadata": {
        "id": "WgSoBnu8ynWt",
        "colab_type": "code",
        "outputId": "1cae090f-fe61-4ac1-c6c5-c80584eb5a89",
        "colab": {
          "base_uri": "https://localhost:8080/",
          "height": 86
        }
      },
      "cell_type": "code",
      "source": [
        "data1=ret(path+'lingspam_public/bare/bare/part1/3*.txt')\n",
        "#ham=ret('/Users/abc/Desktop/machine learning/Models vectors/spam filter/Spam Dataset/Ham emails/*.txt')\n",
        "print(len(data1))\n",
        "df1 = pd.DataFrame({'mail':data1})\n",
        "data2=ret(path+'lingspam_public/bare/bare/part1/5*.txt')\n",
        "print(len(data2))\n",
        "df2 = pd.DataFrame({'mail':data2})\n",
        "data3=ret(path+'lingspam_public/bare/bare/part1/spm*.txt')\n",
        "spam=pd.DataFrame({'mail':data3})\n",
        "print(len(spam))\n",
        "ham=pd.concat([df1,df2],axis=0,ignore_index=True)\n",
        "len(ham)\n",
        "spam['type']=1\n",
        "ham['type']=0\n",
        "datap1=pd.concat([spam,ham],axis=0,ignore_index=True)\n",
        "print(datap1.shape)\n"
      ],
      "execution_count": 0,
      "outputs": [
        {
          "output_type": "stream",
          "text": [
            "143\n",
            "98\n",
            "48\n",
            "(289, 2)\n"
          ],
          "name": "stdout"
        }
      ]
    },
    {
      "metadata": {
        "id": "KYjzkoey4WjG",
        "colab_type": "code",
        "outputId": "b0fc4a6c-58eb-41ad-d542-fcbb5e32077a",
        "colab": {
          "base_uri": "https://localhost:8080/",
          "height": 86
        }
      },
      "cell_type": "code",
      "source": [
        "data1=ret(path+'lingspam_public/bare/bare/part2/5*.txt')\n",
        "#ham=ret('/Users/abc/Desktop/machine learning/Models vectors/spam filter/Spam Dataset/Ham emails/*.txt')\n",
        "print(len(data1))\n",
        "df1 = pd.DataFrame({'mail':data1})\n",
        "data2=ret(path+'lingspam_public/bare/bare/part2/6*.txt')\n",
        "print(len(data2))\n",
        "df2 = pd.DataFrame({'mail':data2})\n",
        "data3=ret(path+'lingspam_public/bare/bare/part2/spm*.txt')\n",
        "spam=pd.DataFrame({'mail':data3})\n",
        "print(len(spam))\n",
        "ham=pd.concat([df1,df2],axis=0,ignore_index=True)\n",
        "len(ham)\n",
        "spam['type']=1\n",
        "ham['type']=0\n",
        "datap2=pd.concat([spam,ham],axis=0,ignore_index=True)\n",
        "print(datap2.shape)"
      ],
      "execution_count": 0,
      "outputs": [
        {
          "output_type": "stream",
          "text": [
            "194\n",
            "47\n",
            "48\n",
            "(289, 2)\n"
          ],
          "name": "stdout"
        }
      ]
    },
    {
      "metadata": {
        "id": "soefMnJ55V-6",
        "colab_type": "code",
        "outputId": "b0e4f08a-7f60-48d3-dc70-a43403459346",
        "colab": {
          "base_uri": "https://localhost:8080/",
          "height": 228
        }
      },
      "cell_type": "code",
      "source": [
        "data1=ret(path+'lingspam_public/bare/bare/part3/6*.txt')\n",
        "#ham=ret('/Users/abc/Desktop/machine learning/Models vectors/spam filter/Spam Dataset/Ham emails/*.txt')\n",
        "print(len(data1))\n",
        "df1 = pd.DataFrame({'mail':data1})\n",
        "\n",
        "data3=ret(path+'lingspam_public/bare/bare/part3/spm*.txt')\n",
        "spam=pd.DataFrame({'mail':data3})\n",
        "print(len(spam))\n",
        "#ham=pd.concat([df1,df2],axis=0,ignore_index=True)\n",
        "len(ham)\n",
        "spam['type']=1\n",
        "ham['type']=0\n",
        "datap3=pd.concat([spam,df1],axis=0,ignore_index=True)\n",
        "print(datap3.shape)"
      ],
      "execution_count": 0,
      "outputs": [
        {
          "output_type": "stream",
          "text": [
            "241\n",
            "48\n",
            "(289, 2)\n"
          ],
          "name": "stdout"
        },
        {
          "output_type": "stream",
          "text": [
            "/usr/local/lib/python3.6/dist-packages/ipykernel_launcher.py:13: FutureWarning: Sorting because non-concatenation axis is not aligned. A future version\n",
            "of pandas will change to not sort by default.\n",
            "\n",
            "To accept the future behavior, pass 'sort=False'.\n",
            "\n",
            "To retain the current behavior and silence the warning, pass 'sort=True'.\n",
            "\n",
            "  del sys.path[0]\n"
          ],
          "name": "stderr"
        }
      ]
    },
    {
      "metadata": {
        "id": "Q51p2Nlh51Bu",
        "colab_type": "code",
        "outputId": "75650f96-4202-4a43-faf3-e457f7ad1e4b",
        "colab": {
          "base_uri": "https://localhost:8080/",
          "height": 86
        }
      },
      "cell_type": "code",
      "source": [
        "data1=ret(path+'lingspam_public/bare/bare/part4/6*.txt')\n",
        "#ham=ret('/Users/abc/Desktop/machine learning/Models vectors/spam filter/Spam Dataset/Ham emails/*.txt')\n",
        "print(len(data1))\n",
        "df1 = pd.DataFrame({'mail':data1})\n",
        "data2=ret(path+'lingspam_public/bare/bare/part4/8*.txt')\n",
        "print(len(data2))\n",
        "df2 = pd.DataFrame({'mail':data2})\n",
        "data3=ret(path+'lingspam_public/bare/bare/part4/spm*.txt')\n",
        "spam=pd.DataFrame({'mail':data3})\n",
        "print(len(spam))\n",
        "ham=pd.concat([df1,df2],axis=0,ignore_index=True)\n",
        "len(ham)\n",
        "spam['type']=1\n",
        "ham['type']=0\n",
        "datap4=pd.concat([spam,ham],axis=0,ignore_index=True)\n",
        "print(datap4.shape)"
      ],
      "execution_count": 0,
      "outputs": [
        {
          "output_type": "stream",
          "text": [
            "209\n",
            "32\n",
            "48\n",
            "(289, 2)\n"
          ],
          "name": "stdout"
        }
      ]
    },
    {
      "metadata": {
        "id": "unaJ9K6r6A97",
        "colab_type": "code",
        "outputId": "bbd0490a-0b43-426e-9794-2f37e0cf157c",
        "colab": {
          "base_uri": "https://localhost:8080/",
          "height": 86
        }
      },
      "cell_type": "code",
      "source": [
        "data1=ret(path+'lingspam_public/bare/bare/part5/8*.txt')\n",
        "#ham=ret('/Users/abc/Desktop/machine learning/Models vectors/spam filter/Spam Dataset/Ham emails/*.txt')\n",
        "print(len(data1))\n",
        "df1 = pd.DataFrame({'mail':data1})\n",
        "data2=ret(path+'lingspam_public/bare/bare/part5/9*.txt')\n",
        "print(len(data2))\n",
        "df2 = pd.DataFrame({'mail':data2})\n",
        "data3=ret(path+'lingspam_public/bare/bare/part5/spm*.txt')\n",
        "spam=pd.DataFrame({'mail':data3})\n",
        "print(len(spam))\n",
        "ham=pd.concat([df1,df2],axis=0,ignore_index=True)\n",
        "len(ham)\n",
        "spam['type']=1\n",
        "ham['type']=0\n",
        "datap5=pd.concat([spam,ham],axis=0,ignore_index=True)\n",
        "print(datap5.shape)"
      ],
      "execution_count": 0,
      "outputs": [
        {
          "output_type": "stream",
          "text": [
            "59\n",
            "183\n",
            "48\n",
            "(290, 2)\n"
          ],
          "name": "stdout"
        }
      ]
    },
    {
      "metadata": {
        "id": "3krvhoUX6Tv7",
        "colab_type": "code",
        "outputId": "2e39b251-d3c1-44a1-8bba-a3b5f00d4324",
        "colab": {
          "base_uri": "https://localhost:8080/",
          "height": 34
        }
      },
      "cell_type": "code",
      "source": [
        "data=pd.concat([datap1,datap2,datap3,datap4,datap5],axis=0,ignore_index=True)\n",
        "print(data.shape)"
      ],
      "execution_count": 0,
      "outputs": [
        {
          "output_type": "stream",
          "text": [
            "(1446, 2)\n"
          ],
          "name": "stdout"
        }
      ]
    },
    {
      "metadata": {
        "id": "5-jvL09Z6tW1",
        "colab_type": "code",
        "colab": {}
      },
      "cell_type": "code",
      "source": [
        ""
      ],
      "execution_count": 0,
      "outputs": []
    },
    {
      "metadata": {
        "id": "d5ZiyXVC0Ci-",
        "colab_type": "code",
        "outputId": "3a106cc6-431a-4cfc-c01e-2525cb0ac486",
        "colab": {
          "base_uri": "https://localhost:8080/",
          "height": 34
        }
      },
      "cell_type": "code",
      "source": [
        "data=data.drop_duplicates(subset=['mail'])\n",
        "data.shape #25 duplicates mail"
      ],
      "execution_count": 0,
      "outputs": [
        {
          "output_type": "execute_result",
          "data": {
            "text/plain": [
              "(1439, 2)"
            ]
          },
          "metadata": {
            "tags": []
          },
          "execution_count": 15
        }
      ]
    },
    {
      "metadata": {
        "id": "_WNNlL3_0HI0",
        "colab_type": "code",
        "outputId": "161b4d19-a706-461a-b580-13e6ceef4729",
        "colab": {
          "base_uri": "https://localhost:8080/",
          "height": 89
        }
      },
      "cell_type": "code",
      "source": [
        "nltk.download('stopwords')\n",
        "stop = set(stopwords.words('english'))#english.txt file has stopwords\n",
        "print(stop)"
      ],
      "execution_count": 0,
      "outputs": [
        {
          "output_type": "stream",
          "text": [
            "[nltk_data] Downloading package stopwords to /root/nltk_data...\n",
            "[nltk_data]   Unzipping corpora/stopwords.zip.\n",
            "{'than', 'there', 'me', 'do', 'nor', 'ours', 'having', 'below', 'until', 'have', 'this', 'during', 'through', 'now', 've', \"it's\", 'here', 'his', 'few', \"didn't\", 'yourself', 'its', 'am', \"shan't\", 'it', 'very', \"you'd\", 'and', \"weren't\", 'is', 'own', \"you'll\", 'these', 'same', \"needn't\", 'at', 'she', 'm', 'her', 'themselves', 'or', 'into', 'don', 'shouldn', 'against', 'because', 'why', 'doing', 'haven', 'needn', 'o', 'yours', 'all', 'won', \"doesn't\", 'when', 'shan', 'both', 'how', \"don't\", 'weren', 'should', 'to', 'out', 'then', 'hers', 'while', \"hadn't\", 'isn', 'ain', 'our', \"you're\", 'once', 'them', 'each', 'most', 'that', 'after', 'itself', 'from', \"mightn't\", 'where', 'theirs', 'what', \"won't\", 'about', \"wouldn't\", 'above', 'll', \"that'll\", 'down', 'hasn', 'been', 'being', 'in', 's', 'd', 'mustn', 'who', 'before', 'by', 'he', \"you've\", 'those', 'further', 'wasn', \"haven't\", 'himself', 'you', \"shouldn't\", \"hasn't\", 'some', 'hadn', 'my', \"wasn't\", \"couldn't\", 'myself', 'just', 'had', 'of', \"aren't\", 're', 'an', 'yourselves', 'him', 'herself', 'the', 'too', 'no', 'be', 'i', 't', 'ma', 'we', 'any', 'not', 'doesn', \"mustn't\", 'over', 'up', 'y', 'does', 'were', 'was', 'but', 'has', 'for', 'didn', 'on', 'such', 'ourselves', 'are', 'off', 'can', 'as', 'with', \"isn't\", 'so', 'their', 'couldn', 'if', 'your', 'under', 'wouldn', \"should've\", 'which', \"she's\", 'mightn', 'other', 'only', 'whom', 'did', 'aren', 'will', 'they', 'between', 'a', 'again', 'more'}\n"
          ],
          "name": "stdout"
        }
      ]
    },
    {
      "metadata": {
        "id": "wk1Uq1us0OhJ",
        "colab_type": "code",
        "outputId": "8cc8d258-efaa-44d2-a316-82af9d40baa8",
        "colab": {
          "base_uri": "https://localhost:8080/",
          "height": 54
        }
      },
      "cell_type": "code",
      "source": [
        "lst = [\"wouldn't\",'won', 'nor', 'not', 'against',\"doesn't\",\"don't\"] #to remove these words from english.txt file\n",
        "for word in lst:\n",
        "    stop.remove(word)\n",
        "print(stop)"
      ],
      "execution_count": 0,
      "outputs": [
        {
          "output_type": "stream",
          "text": [
            "{'than', 'there', 'me', 'do', 'ours', 'having', 'below', 'until', 'have', 'this', 'during', 'through', 'now', 've', \"it's\", 'here', 'his', 'few', \"didn't\", 'yourself', 'its', 'am', \"shan't\", 'it', 'very', \"you'd\", 'and', \"weren't\", 'is', 'own', \"you'll\", 'these', 'same', \"needn't\", 'at', 'she', 'm', 'her', 'themselves', 'or', 'into', 'don', 'shouldn', 'because', 'why', 'doing', 'haven', 'needn', 'o', 'yours', 'all', 'when', 'shan', 'both', 'how', 'weren', 'should', 'to', 'out', 'then', 'hers', 'while', \"hadn't\", 'isn', 'ain', 'our', \"you're\", 'once', 'them', 'each', 'most', 'that', 'after', 'itself', 'from', \"mightn't\", 'where', 'theirs', 'what', \"won't\", 'about', 'above', 'll', \"that'll\", 'down', 'hasn', 'been', 'being', 'in', 's', 'd', 'mustn', 'who', 'before', 'by', 'he', \"you've\", 'those', 'further', 'wasn', \"haven't\", 'himself', 'you', \"shouldn't\", \"hasn't\", 'some', 'hadn', 'my', \"wasn't\", \"couldn't\", 'myself', 'just', 'had', 'of', \"aren't\", 're', 'an', 'yourselves', 'him', 'herself', 'the', 'too', 'no', 'be', 'i', 't', 'ma', 'we', 'any', 'doesn', \"mustn't\", 'over', 'up', 'y', 'does', 'were', 'was', 'but', 'has', 'for', 'didn', 'on', 'such', 'ourselves', 'are', 'off', 'can', 'as', 'with', \"isn't\", 'so', 'their', 'couldn', 'if', 'your', 'under', 'wouldn', \"should've\", 'which', \"she's\", 'mightn', 'other', 'only', 'whom', 'did', 'aren', 'will', 'they', 'between', 'a', 'again', 'more'}\n"
          ],
          "name": "stdout"
        }
      ]
    },
    {
      "metadata": {
        "id": "aADrRGx60TQc",
        "colab_type": "code",
        "outputId": "fb894140-30a3-41f6-870f-8186672fb5a3",
        "colab": {
          "base_uri": "https://localhost:8080/",
          "height": 34
        }
      },
      "cell_type": "code",
      "source": [
        "sno = nltk.stem.SnowballStemmer('english') #english stemmer\n",
        "sno.stem(\"caring\")"
      ],
      "execution_count": 0,
      "outputs": [
        {
          "output_type": "execute_result",
          "data": {
            "text/plain": [
              "'care'"
            ]
          },
          "metadata": {
            "tags": []
          },
          "execution_count": 18
        }
      ]
    },
    {
      "metadata": {
        "id": "UFdy0EgY0Z6o",
        "colab_type": "code",
        "colab": {}
      },
      "cell_type": "code",
      "source": [
        "import re\n",
        "from nltk.corpus import stopwords\n",
        "import nltk \n",
        "#removal of html tags\n",
        "def cleanhtml(sent):\n",
        "    cleanr=re.compile('<.*?>')\n",
        "    cleantext=re.sub(cleanr,' ',sent)\n",
        "    return cleantext"
      ],
      "execution_count": 0,
      "outputs": []
    },
    {
      "metadata": {
        "id": "O_I_pMMk0dD6",
        "colab_type": "code",
        "colab": {}
      },
      "cell_type": "code",
      "source": [
        "#removal of punctuation tags\n",
        "def cleanpunc(sent):\n",
        "    cleaned=re.sub(r'[?|@|!|^|%|\\'|\"|#|$|:|*|+|-|=|\\-|&|_]',r'',sent)\n",
        "    cleaned=re.sub(r'[.|,|)|(|\\|/]',r' ',cleaned)\n",
        "    return cleaned"
      ],
      "execution_count": 0,
      "outputs": []
    },
    {
      "metadata": {
        "id": "xd1-PcQJ0izd",
        "colab_type": "code",
        "colab": {}
      },
      "cell_type": "code",
      "source": [
        "def preprocessing(series):\n",
        "    \n",
        "    i = 0\n",
        "    str1=\" \"\n",
        "    final_string = []    ## This list will contain cleaned sentences\n",
        "    list_of_sent = []    ## This is a list of lists used as input to the W2V model at a later stage\n",
        "    \n",
        "    ## Creating below lists for future use\n",
        "    all_positive_words=[] # store words from spam mail here\n",
        "    all_negative_words=[] # store words from ham mail here\n",
        "    \n",
        "\n",
        "    for sent in series.values:\n",
        "        filtered_sent=[]\n",
        "        sent=cleanhtml(sent)\n",
        "        sent=cleanpunc(sent)\n",
        "        \n",
        "        for clean_word in sent.split():\n",
        "            if((clean_word.isalpha()) and (len(clean_word)>2)):\n",
        "                if(clean_word.lower() not in stop):\n",
        "                    s=(sno.stem(clean_word.lower()))\n",
        "                    s=clean_word.lower()\n",
        "                    filtered_sent.append(s)\n",
        "                    if(data['type'].values)[i]==1:\n",
        "                        all_positive_words.append(s)\n",
        "                    if(data['type'].values)[i]==0:\n",
        "                        all_negative_words.append(s)\n",
        "                        \n",
        "        list_of_sent.append(filtered_sent)\n",
        "        str1=' '.join(filtered_sent)\n",
        "        final_string.append(str1)\n",
        "        i+=1\n",
        "    return final_string,list_of_sent\n"
      ],
      "execution_count": 0,
      "outputs": []
    },
    {
      "metadata": {
        "id": "2ARHJsT10nir",
        "colab_type": "code",
        "outputId": "4c2996af-5a93-4457-b994-39f17ee0c4c3",
        "colab": {
          "base_uri": "https://localhost:8080/",
          "height": 1094
        }
      },
      "cell_type": "code",
      "source": [
        "final_string,list_of_sent=preprocessing(data['mail'])\n",
        "print(data['mail'])"
      ],
      "execution_count": 0,
      "outputs": [
        {
          "output_type": "stream",
          "text": [
            "0       dear nlpeople , i ' m sure you ' ll agree auto...\n",
            "1       * * * * * * * * * * * * * * * we have display ...\n",
            "2       attention ! warning ! adults only ! warning ! ...\n",
            "3       if you want the best hunting and camping vacat...\n",
            "4       57 million email addresses for only $ 99 you w...\n",
            "5       make $ 3500 per week using your home computer ...\n",
            "6       hi . my name is dennis . i am a third-generati...\n",
            "7       attention ! warning ! adults only ! warning ! ...\n",
            "8       * have you ever got a speeding ticket and need...\n",
            "9       from the desk of robert g . allen dear nlpeopl...\n",
            "10      subject : re : are you in debt ? if you are th...\n",
            "11      = = = = = = = = = = = = = = = = = = = = = = = ...\n",
            "12      57 million email addresses for only $ 99 you w...\n",
            "13      the 2 newest and hottest interactive adult web...\n",
            "14      special : work from home , sell successfully a...\n",
            "15      it was just released ! ! introducing . . . mil...\n",
            "16      hey , i ' ll just get to the point . i have a ...\n",
            "17      the rumors are true ! * * * * * * * * * * * * ...\n",
            "18      authenticated sender is subject : ( + ( + bull...\n",
            "19      there was a way to : pay off a 30 year mortgag...\n",
            "20      this is a multi-part message in mime format . ...\n",
            "21      pardon the intrusion . no offence is meant . i...\n",
            "22      federally mandated , electric deregulation , a...\n",
            "23      horizon publishing would like to invite you to...\n",
            "24      have you ever been treated bad or embarrased b...\n",
            "25      attention ! warning ! adults only ! warning ! ...\n",
            "26      this message complies with the proposed united...\n",
            "27      order form : all addresses are fresh and clean...\n",
            "28      bad credit ? no credit ? bankruptcy ? divorce ...\n",
            "29      great news for advertisers and bulkers ! ! ! !...\n",
            "                              ...                        \n",
            "1416    the three books listed below are in the lingui...\n",
            "1417    the english language in pakistan edited by rob...\n",
            "1418    the three books listed below are in the lingui...\n",
            "1419    in this message we ask your attention for the ...\n",
            "1420    the 13th pacific asia conference on language ,...\n",
            "1421    lang acquisition ( universal grammar ) investi...\n",
            "1422    phonetics intonation ( second edition ) alan c...\n",
            "1423    pidgins and creoles muehlhausler , peter , ed ...\n",
            "1424    table of contents of glot international , vol ...\n",
            "1425    the two books listed below are in the linguist...\n",
            "1426    - - - - - - - - - - - - - - - - - - - - - - se...\n",
            "1427    atomism and binding edited by hans bennis , pi...\n",
            "1428    t e f l i n the association of teachers of eng...\n",
            "1429    roberto bolognesi , the phonology of campidani...\n",
            "1430    the 1998 central japan language education work...\n",
            "1431    please post or distribute call for papers comp...\n",
            "1432    we are pleased to inform you that the center f...\n",
            "1433    kluwer academic publishers text , speech and l...\n",
            "1434    announcing the 1999 conference on the morpho -...\n",
            "1435    2nd and last call for papers - - - - - - - - -...\n",
            "1436    program sposs 24-26 september , la baume - les...\n",
            "1437    call for papers eurogp ' 99 second european wo...\n",
            "1438    ruben van de vijver , the iambic issue . iambs...\n",
            "1439    literacy development in a multilingual context...\n",
            "1440    the glow phonology workshop phonetics in phono...\n",
            "1441    call for papers special conference on johann l...\n",
            "1442    * * anthropological linguistics , volume 40 , ...\n",
            "1443    the first international conference on tai stud...\n",
            "1444    social and cognitive approaches to interperson...\n",
            "1445    the new psychology of language cognitive and f...\n",
            "Name: mail, Length: 1439, dtype: object\n"
          ],
          "name": "stdout"
        }
      ]
    },
    {
      "metadata": {
        "id": "3U1F-0vE0_AC",
        "colab_type": "code",
        "outputId": "d33edc0d-e434-4ae1-de85-d30666d4d88e",
        "colab": {
          "base_uri": "https://localhost:8080/",
          "height": 34
        }
      },
      "cell_type": "code",
      "source": [
        "data['cleaned_mail_stem']=final_string\n",
        "print(data.shape)\n",
        "#data.head(10)\n",
        "data.dropna()\n",
        "data.dropna(axis='columns')\n",
        "data.shape\n",
        "data = data.fillna(method='ffill')"
      ],
      "execution_count": 0,
      "outputs": [
        {
          "output_type": "stream",
          "text": [
            "(1439, 3)\n"
          ],
          "name": "stdout"
        }
      ]
    },
    {
      "metadata": {
        "id": "laFDnKyY1Fab",
        "colab_type": "code",
        "outputId": "f40b30a8-786d-4ef4-9236-1946fcc7cfd2",
        "colab": {
          "base_uri": "https://localhost:8080/",
          "height": 330
        }
      },
      "cell_type": "code",
      "source": [
        "from sklearn.feature_extraction.text import TfidfVectorizer\n",
        "from scipy.sparse import csr_matrix\n",
        "vectorizer = TfidfVectorizer()\n",
        "vectors = vectorizer.fit_transform(data['cleaned_mail_stem'])\n",
        "sp_arr = csr_matrix(vectors)\n",
        "sdf = pd.SparseDataFrame(sp_arr,default_fill_value=0)\n",
        "print(sdf.head())\n",
        "print(vectors.shape)\n",
        "vectors[0][0]"
      ],
      "execution_count": 0,
      "outputs": [
        {
          "output_type": "stream",
          "text": [
            "   0      1      2      3      4      5      6      7      8      9      \\\n",
            "0    0.0    0.0    0.0    0.0    0.0    0.0    0.0    0.0    0.0    0.0   \n",
            "1    0.0    0.0    0.0    0.0    0.0    0.0    0.0    0.0    0.0    0.0   \n",
            "2    0.0    0.0    0.0    0.0    0.0    0.0    0.0    0.0    0.0    0.0   \n",
            "3    0.0    0.0    0.0    0.0    0.0    0.0    0.0    0.0    0.0    0.0   \n",
            "4    0.0    0.0    0.0    0.0    0.0    0.0    0.0    0.0    0.0    0.0   \n",
            "\n",
            "   ...    38133  38134  38135  38136  38137  38138  38139  38140  38141  38142  \n",
            "0  ...      0.0    0.0    0.0    0.0    0.0    0.0    0.0    0.0    0.0    0.0  \n",
            "1  ...      0.0    0.0    0.0    0.0    0.0    0.0    0.0    0.0    0.0    0.0  \n",
            "2  ...      0.0    0.0    0.0    0.0    0.0    0.0    0.0    0.0    0.0    0.0  \n",
            "3  ...      0.0    0.0    0.0    0.0    0.0    0.0    0.0    0.0    0.0    0.0  \n",
            "4  ...      0.0    0.0    0.0    0.0    0.0    0.0    0.0    0.0    0.0    0.0  \n",
            "\n",
            "[5 rows x 38143 columns]\n",
            "(1439, 38143)\n"
          ],
          "name": "stdout"
        },
        {
          "output_type": "execute_result",
          "data": {
            "text/plain": [
              "<1x38143 sparse matrix of type '<class 'numpy.float64'>'\n",
              "\twith 98 stored elements in Compressed Sparse Row format>"
            ]
          },
          "metadata": {
            "tags": []
          },
          "execution_count": 24
        }
      ]
    },
    {
      "metadata": {
        "id": "fUotLQhzxLxa",
        "colab_type": "code",
        "colab": {}
      },
      "cell_type": "code",
      "source": [
        "bow_vect=CountVectorizer()\n",
        "bow=bow_vect.fit_transform(data['cleaned_mail_stem'].values)\n",
        "sp_arr1 = csr_matrix(bow)\n",
        "sdfb = pd.SparseDataFrame(sp_arr1,default_fill_value=0)\n",
        "#print(sdfb.head())\n",
        "x=bow  \n",
        "y=data['type'].values\n"
      ],
      "execution_count": 0,
      "outputs": []
    },
    {
      "metadata": {
        "id": "OzPhpznJ1yV7",
        "colab_type": "code",
        "colab": {}
      },
      "cell_type": "code",
      "source": [
        "from sklearn.preprocessing import StandardScaler\n",
        "from sklearn.model_selection import train_test_split\n",
        "from sklearn.model_selection import cross_val_score\n",
        "\n",
        "Xb_train, Xb_test, yb_train, yb_test = train_test_split(sdfb, data['type'], test_size=0.20, random_state=111)\n"
      ],
      "execution_count": 0,
      "outputs": []
    },
    {
      "metadata": {
        "id": "gFbKUUH711-w",
        "colab_type": "code",
        "colab": {}
      },
      "cell_type": "code",
      "source": [
        "from sklearn.preprocessing import StandardScaler\n",
        "from sklearn.model_selection import train_test_split\n",
        "from sklearn.model_selection import cross_val_score\n",
        "\n",
        "X_train, X_test, y_train, y_test = train_test_split(sdf, data['type'], test_size=0.20, random_state=111)"
      ],
      "execution_count": 0,
      "outputs": []
    },
    {
      "metadata": {
        "id": "HVyw-W_i2Nv3",
        "colab_type": "code",
        "outputId": "22c4e82f-0897-4ce4-b757-c8c96b4ef1e4",
        "colab": {
          "base_uri": "https://localhost:8080/",
          "height": 3386
        }
      },
      "cell_type": "code",
      "source": [
        "\n",
        "print (X_train)\n",
        "print (X_test.shape)\n",
        "print (y_train.shape)\n",
        "print (y_test.shape)\n",
        "\n",
        "\n",
        "\n",
        "X_train.shape"
      ],
      "execution_count": 0,
      "outputs": [
        {
          "output_type": "stream",
          "text": [
            "         0      1      2      3      4      5      6      7        8      \\\n",
            "699   0.000000    0.0    0.0    0.0    0.0    0.0    0.0    0.0  0.00000   \n",
            "354   0.000000    0.0    0.0    0.0    0.0    0.0    0.0    0.0  0.00000   \n",
            "564   0.000000    0.0    0.0    0.0    0.0    0.0    0.0    0.0  0.00000   \n",
            "484   0.000000    0.0    0.0    0.0    0.0    0.0    0.0    0.0  0.00000   \n",
            "106   0.000000    0.0    0.0    0.0    0.0    0.0    0.0    0.0  0.00000   \n",
            "1081  0.000000    0.0    0.0    0.0    0.0    0.0    0.0    0.0  0.00000   \n",
            "1423  0.000000    0.0    0.0    0.0    0.0    0.0    0.0    0.0  0.00000   \n",
            "407   0.000000    0.0    0.0    0.0    0.0    0.0    0.0    0.0  0.00000   \n",
            "961   0.000000    0.0    0.0    0.0    0.0    0.0    0.0    0.0  0.00000   \n",
            "125   0.000000    0.0    0.0    0.0    0.0    0.0    0.0    0.0  0.00000   \n",
            "768   0.000000    0.0    0.0    0.0    0.0    0.0    0.0    0.0  0.00000   \n",
            "1280  0.000000    0.0    0.0    0.0    0.0    0.0    0.0    0.0  0.00000   \n",
            "633   0.000000    0.0    0.0    0.0    0.0    0.0    0.0    0.0  0.00000   \n",
            "883   0.000000    0.0    0.0    0.0    0.0    0.0    0.0    0.0  0.00000   \n",
            "425   0.000000    0.0    0.0    0.0    0.0    0.0    0.0    0.0  0.00000   \n",
            "490   0.000000    0.0    0.0    0.0    0.0    0.0    0.0    0.0  0.00000   \n",
            "246   0.000000    0.0    0.0    0.0    0.0    0.0    0.0    0.0  0.00000   \n",
            "126   0.000000    0.0    0.0    0.0    0.0    0.0    0.0    0.0  0.00000   \n",
            "314   0.000000    0.0    0.0    0.0    0.0    0.0    0.0    0.0  0.00000   \n",
            "119   0.000000    0.0    0.0    0.0    0.0    0.0    0.0    0.0  0.00000   \n",
            "987   0.000000    0.0    0.0    0.0    0.0    0.0    0.0    0.0  0.00000   \n",
            "385   0.000000    0.0    0.0    0.0    0.0    0.0    0.0    0.0  0.00000   \n",
            "1262  0.000000    0.0    0.0    0.0    0.0    0.0    0.0    0.0  0.00000   \n",
            "1405  0.000000    0.0    0.0    0.0    0.0    0.0    0.0    0.0  0.00000   \n",
            "556   0.000000    0.0    0.0    0.0    0.0    0.0    0.0    0.0  0.00000   \n",
            "383   0.000000    0.0    0.0    0.0    0.0    0.0    0.0    0.0  0.00000   \n",
            "87    0.000000    0.0    0.0    0.0    0.0    0.0    0.0    0.0  0.00000   \n",
            "694   0.000000    0.0    0.0    0.0    0.0    0.0    0.0    0.0  0.00000   \n",
            "638   0.000000    0.0    0.0    0.0    0.0    0.0    0.0    0.0  0.00000   \n",
            "154   0.000000    0.0    0.0    0.0    0.0    0.0    0.0    0.0  0.00000   \n",
            "...        ...    ...    ...    ...    ...    ...    ...    ...      ...   \n",
            "483   0.000000    0.0    0.0    0.0    0.0    0.0    0.0    0.0  0.00000   \n",
            "324   0.000000    0.0    0.0    0.0    0.0    0.0    0.0    0.0  0.00000   \n",
            "747   0.000000    0.0    0.0    0.0    0.0    0.0    0.0    0.0  0.00000   \n",
            "562   0.000000    0.0    0.0    0.0    0.0    0.0    0.0    0.0  0.00000   \n",
            "525   0.000000    0.0    0.0    0.0    0.0    0.0    0.0    0.0  0.00000   \n",
            "344   0.000000    0.0    0.0    0.0    0.0    0.0    0.0    0.0  0.00000   \n",
            "334   0.000000    0.0    0.0    0.0    0.0    0.0    0.0    0.0  0.00000   \n",
            "685   0.000000    0.0    0.0    0.0    0.0    0.0    0.0    0.0  0.00000   \n",
            "268   0.000000    0.0    0.0    0.0    0.0    0.0    0.0    0.0  0.00000   \n",
            "972   0.000000    0.0    0.0    0.0    0.0    0.0    0.0    0.0  0.36253   \n",
            "37    0.000000    0.0    0.0    0.0    0.0    0.0    0.0    0.0  0.00000   \n",
            "712   0.000000    0.0    0.0    0.0    0.0    0.0    0.0    0.0  0.00000   \n",
            "1045  0.000000    0.0    0.0    0.0    0.0    0.0    0.0    0.0  0.00000   \n",
            "418   0.000000    0.0    0.0    0.0    0.0    0.0    0.0    0.0  0.00000   \n",
            "1294  0.000000    0.0    0.0    0.0    0.0    0.0    0.0    0.0  0.00000   \n",
            "1308  0.000000    0.0    0.0    0.0    0.0    0.0    0.0    0.0  0.00000   \n",
            "728   0.000000    0.0    0.0    0.0    0.0    0.0    0.0    0.0  0.00000   \n",
            "1290  0.000000    0.0    0.0    0.0    0.0    0.0    0.0    0.0  0.00000   \n",
            "1292  0.000000    0.0    0.0    0.0    0.0    0.0    0.0    0.0  0.00000   \n",
            "1031  0.000000    0.0    0.0    0.0    0.0    0.0    0.0    0.0  0.00000   \n",
            "953   0.000000    0.0    0.0    0.0    0.0    0.0    0.0    0.0  0.00000   \n",
            "967   0.000000    0.0    0.0    0.0    0.0    0.0    0.0    0.0  0.00000   \n",
            "808   0.000000    0.0    0.0    0.0    0.0    0.0    0.0    0.0  0.00000   \n",
            "118   0.000000    0.0    0.0    0.0    0.0    0.0    0.0    0.0  0.00000   \n",
            "1346  0.000000    0.0    0.0    0.0    0.0    0.0    0.0    0.0  0.00000   \n",
            "681   0.000000    0.0    0.0    0.0    0.0    0.0    0.0    0.0  0.00000   \n",
            "1299  0.000000    0.0    0.0    0.0    0.0    0.0    0.0    0.0  0.00000   \n",
            "86    0.000000    0.0    0.0    0.0    0.0    0.0    0.0    0.0  0.00000   \n",
            "724   0.000000    0.0    0.0    0.0    0.0    0.0    0.0    0.0  0.00000   \n",
            "876   0.175292    0.0    0.0    0.0    0.0    0.0    0.0    0.0  0.00000   \n",
            "\n",
            "      9      ...    38133  38134     38135  38136  38137  38138  38139  38140  \\\n",
            "699     0.0  ...      0.0    0.0  0.000000    0.0    0.0    0.0    0.0    0.0   \n",
            "354     0.0  ...      0.0    0.0  0.000000    0.0    0.0    0.0    0.0    0.0   \n",
            "564     0.0  ...      0.0    0.0  0.000000    0.0    0.0    0.0    0.0    0.0   \n",
            "484     0.0  ...      0.0    0.0  0.000000    0.0    0.0    0.0    0.0    0.0   \n",
            "106     0.0  ...      0.0    0.0  0.000000    0.0    0.0    0.0    0.0    0.0   \n",
            "1081    0.0  ...      0.0    0.0  0.000000    0.0    0.0    0.0    0.0    0.0   \n",
            "1423    0.0  ...      0.0    0.0  0.000000    0.0    0.0    0.0    0.0    0.0   \n",
            "407     0.0  ...      0.0    0.0  0.000000    0.0    0.0    0.0    0.0    0.0   \n",
            "961     0.0  ...      0.0    0.0  0.000000    0.0    0.0    0.0    0.0    0.0   \n",
            "125     0.0  ...      0.0    0.0  0.000000    0.0    0.0    0.0    0.0    0.0   \n",
            "768     0.0  ...      0.0    0.0  0.000000    0.0    0.0    0.0    0.0    0.0   \n",
            "1280    0.0  ...      0.0    0.0  0.000000    0.0    0.0    0.0    0.0    0.0   \n",
            "633     0.0  ...      0.0    0.0  0.000000    0.0    0.0    0.0    0.0    0.0   \n",
            "883     0.0  ...      0.0    0.0  0.000000    0.0    0.0    0.0    0.0    0.0   \n",
            "425     0.0  ...      0.0    0.0  0.000000    0.0    0.0    0.0    0.0    0.0   \n",
            "490     0.0  ...      0.0    0.0  0.000000    0.0    0.0    0.0    0.0    0.0   \n",
            "246     0.0  ...      0.0    0.0  0.000000    0.0    0.0    0.0    0.0    0.0   \n",
            "126     0.0  ...      0.0    0.0  0.000000    0.0    0.0    0.0    0.0    0.0   \n",
            "314     0.0  ...      0.0    0.0  0.000000    0.0    0.0    0.0    0.0    0.0   \n",
            "119     0.0  ...      0.0    0.0  0.000000    0.0    0.0    0.0    0.0    0.0   \n",
            "987     0.0  ...      0.0    0.0  0.000000    0.0    0.0    0.0    0.0    0.0   \n",
            "385     0.0  ...      0.0    0.0  0.000000    0.0    0.0    0.0    0.0    0.0   \n",
            "1262    0.0  ...      0.0    0.0  0.000000    0.0    0.0    0.0    0.0    0.0   \n",
            "1405    0.0  ...      0.0    0.0  0.000000    0.0    0.0    0.0    0.0    0.0   \n",
            "556     0.0  ...      0.0    0.0  0.000000    0.0    0.0    0.0    0.0    0.0   \n",
            "383     0.0  ...      0.0    0.0  0.049317    0.0    0.0    0.0    0.0    0.0   \n",
            "87      0.0  ...      0.0    0.0  0.000000    0.0    0.0    0.0    0.0    0.0   \n",
            "694     0.0  ...      0.0    0.0  0.000000    0.0    0.0    0.0    0.0    0.0   \n",
            "638     0.0  ...      0.0    0.0  0.000000    0.0    0.0    0.0    0.0    0.0   \n",
            "154     0.0  ...      0.0    0.0  0.000000    0.0    0.0    0.0    0.0    0.0   \n",
            "...     ...  ...      ...    ...       ...    ...    ...    ...    ...    ...   \n",
            "483     0.0  ...      0.0    0.0  0.000000    0.0    0.0    0.0    0.0    0.0   \n",
            "324     0.0  ...      0.0    0.0  0.000000    0.0    0.0    0.0    0.0    0.0   \n",
            "747     0.0  ...      0.0    0.0  0.000000    0.0    0.0    0.0    0.0    0.0   \n",
            "562     0.0  ...      0.0    0.0  0.000000    0.0    0.0    0.0    0.0    0.0   \n",
            "525     0.0  ...      0.0    0.0  0.000000    0.0    0.0    0.0    0.0    0.0   \n",
            "344     0.0  ...      0.0    0.0  0.000000    0.0    0.0    0.0    0.0    0.0   \n",
            "334     0.0  ...      0.0    0.0  0.000000    0.0    0.0    0.0    0.0    0.0   \n",
            "685     0.0  ...      0.0    0.0  0.000000    0.0    0.0    0.0    0.0    0.0   \n",
            "268     0.0  ...      0.0    0.0  0.000000    0.0    0.0    0.0    0.0    0.0   \n",
            "972     0.0  ...      0.0    0.0  0.000000    0.0    0.0    0.0    0.0    0.0   \n",
            "37      0.0  ...      0.0    0.0  0.000000    0.0    0.0    0.0    0.0    0.0   \n",
            "712     0.0  ...      0.0    0.0  0.000000    0.0    0.0    0.0    0.0    0.0   \n",
            "1045    0.0  ...      0.0    0.0  0.000000    0.0    0.0    0.0    0.0    0.0   \n",
            "418     0.0  ...      0.0    0.0  0.000000    0.0    0.0    0.0    0.0    0.0   \n",
            "1294    0.0  ...      0.0    0.0  0.000000    0.0    0.0    0.0    0.0    0.0   \n",
            "1308    0.0  ...      0.0    0.0  0.000000    0.0    0.0    0.0    0.0    0.0   \n",
            "728     0.0  ...      0.0    0.0  0.000000    0.0    0.0    0.0    0.0    0.0   \n",
            "1290    0.0  ...      0.0    0.0  0.000000    0.0    0.0    0.0    0.0    0.0   \n",
            "1292    0.0  ...      0.0    0.0  0.000000    0.0    0.0    0.0    0.0    0.0   \n",
            "1031    0.0  ...      0.0    0.0  0.000000    0.0    0.0    0.0    0.0    0.0   \n",
            "953     0.0  ...      0.0    0.0  0.000000    0.0    0.0    0.0    0.0    0.0   \n",
            "967     0.0  ...      0.0    0.0  0.000000    0.0    0.0    0.0    0.0    0.0   \n",
            "808     0.0  ...      0.0    0.0  0.000000    0.0    0.0    0.0    0.0    0.0   \n",
            "118     0.0  ...      0.0    0.0  0.000000    0.0    0.0    0.0    0.0    0.0   \n",
            "1346    0.0  ...      0.0    0.0  0.000000    0.0    0.0    0.0    0.0    0.0   \n",
            "681     0.0  ...      0.0    0.0  0.000000    0.0    0.0    0.0    0.0    0.0   \n",
            "1299    0.0  ...      0.0    0.0  0.000000    0.0    0.0    0.0    0.0    0.0   \n",
            "86      0.0  ...      0.0    0.0  0.000000    0.0    0.0    0.0    0.0    0.0   \n",
            "724     0.0  ...      0.0    0.0  0.000000    0.0    0.0    0.0    0.0    0.0   \n",
            "876     0.0  ...      0.0    0.0  0.000000    0.0    0.0    0.0    0.0    0.0   \n",
            "\n",
            "      38141  38142  \n",
            "699     0.0    0.0  \n",
            "354     0.0    0.0  \n",
            "564     0.0    0.0  \n",
            "484     0.0    0.0  \n",
            "106     0.0    0.0  \n",
            "1081    0.0    0.0  \n",
            "1423    0.0    0.0  \n",
            "407     0.0    0.0  \n",
            "961     0.0    0.0  \n",
            "125     0.0    0.0  \n",
            "768     0.0    0.0  \n",
            "1280    0.0    0.0  \n",
            "633     0.0    0.0  \n",
            "883     0.0    0.0  \n",
            "425     0.0    0.0  \n",
            "490     0.0    0.0  \n",
            "246     0.0    0.0  \n",
            "126     0.0    0.0  \n",
            "314     0.0    0.0  \n",
            "119     0.0    0.0  \n",
            "987     0.0    0.0  \n",
            "385     0.0    0.0  \n",
            "1262    0.0    0.0  \n",
            "1405    0.0    0.0  \n",
            "556     0.0    0.0  \n",
            "383     0.0    0.0  \n",
            "87      0.0    0.0  \n",
            "694     0.0    0.0  \n",
            "638     0.0    0.0  \n",
            "154     0.0    0.0  \n",
            "...     ...    ...  \n",
            "483     0.0    0.0  \n",
            "324     0.0    0.0  \n",
            "747     0.0    0.0  \n",
            "562     0.0    0.0  \n",
            "525     0.0    0.0  \n",
            "344     0.0    0.0  \n",
            "334     0.0    0.0  \n",
            "685     0.0    0.0  \n",
            "268     0.0    0.0  \n",
            "972     0.0    0.0  \n",
            "37      0.0    0.0  \n",
            "712     0.0    0.0  \n",
            "1045    0.0    0.0  \n",
            "418     0.0    0.0  \n",
            "1294    0.0    0.0  \n",
            "1308    0.0    0.0  \n",
            "728     0.0    0.0  \n",
            "1290    0.0    0.0  \n",
            "1292    0.0    0.0  \n",
            "1031    0.0    0.0  \n",
            "953     0.0    0.0  \n",
            "967     0.0    0.0  \n",
            "808     0.0    0.0  \n",
            "118     0.0    0.0  \n",
            "1346    0.0    0.0  \n",
            "681     0.0    0.0  \n",
            "1299    0.0    0.0  \n",
            "86      0.0    0.0  \n",
            "724     0.0    0.0  \n",
            "876     0.0    0.0  \n",
            "\n",
            "[1151 rows x 38143 columns]\n",
            "(288, 38143)\n",
            "(1151,)\n",
            "(288,)\n"
          ],
          "name": "stdout"
        },
        {
          "output_type": "execute_result",
          "data": {
            "text/plain": [
              "(1151, 38143)"
            ]
          },
          "metadata": {
            "tags": []
          },
          "execution_count": 100
        }
      ]
    },
    {
      "metadata": {
        "id": "EXEZOhKV4xl7",
        "colab_type": "code",
        "colab": {}
      },
      "cell_type": "code",
      "source": [
        "from sklearn.linear_model import LogisticRegression\n",
        "from sklearn.svm import SVC\n",
        "from sklearn.naive_bayes import MultinomialNB\n",
        "from sklearn.tree import DecisionTreeClassifier\n",
        "from sklearn.neighbors import KNeighborsClassifier\n",
        "from sklearn.ensemble import RandomForestClassifier"
      ],
      "execution_count": 0,
      "outputs": []
    },
    {
      "metadata": {
        "id": "evke4drw43GI",
        "colab_type": "code",
        "colab": {}
      },
      "cell_type": "code",
      "source": [
        "svc = SVC(kernel='linear', gamma=1.0)\n",
        "#knc = KNeighborsClassifier(n_neighbors=49)\n",
        "mnb = MultinomialNB(alpha=0.2)\n",
        "#dtc = DecisionTreeClassifier(min_samples_split=7, random_state=111)\n",
        "#lrc = LogisticRegression(solver='liblinear', penalty='l1')\n",
        "#rfc = RandomForestClassifier(n_estimators=31, random_state=111)"
      ],
      "execution_count": 0,
      "outputs": []
    },
    {
      "metadata": {
        "id": "fl-R48WH46q8",
        "colab_type": "code",
        "colab": {}
      },
      "cell_type": "code",
      "source": [
        "clfs = {'SVC' : svc, 'NB':mnb}"
      ],
      "execution_count": 0,
      "outputs": []
    },
    {
      "metadata": {
        "id": "m6HKZtb3718B",
        "colab_type": "code",
        "colab": {}
      },
      "cell_type": "code",
      "source": [
        "def train(clf, features, targets):    \n",
        "    clf.fit(features, targets)\n",
        "\n",
        "def predict(clf, features):\n",
        "    return (clf.predict(features))"
      ],
      "execution_count": 0,
      "outputs": []
    },
    {
      "metadata": {
        "id": "O5k4wuDBypPV",
        "colab_type": "code",
        "colab": {}
      },
      "cell_type": "code",
      "source": [
        "from sklearn.metrics import accuracy_score #works\n",
        "pred_scoresbag_word_vectors = []\n",
        "predbag =dict()\n",
        "for k,v in clfs.items():\n",
        "    train(v, Xb_train, yb_train)\n",
        "    pred = predict(v, Xb_test)\n",
        "    predbag[k]=pred\n",
        "    pred_scoresbag_word_vectors.append((k, [accuracy_score(yb_test , pred)]))\n",
        "#predbag['SVC']\n"
      ],
      "execution_count": 0,
      "outputs": []
    },
    {
      "metadata": {
        "id": "i6Swao5q6vli",
        "colab_type": "code",
        "outputId": "2a97ecdf-467f-426b-9f05-a5d55b0e994b",
        "colab": {
          "base_uri": "https://localhost:8080/",
          "height": 434
        }
      },
      "cell_type": "code",
      "source": [
        "from sklearn.metrics import accuracy_score #works\n",
        "pred_scores_word_vectors = []\n",
        "prednew =dict()\n",
        "for k,v in clfs.items():\n",
        "    train(v, X_train, y_train)\n",
        "    pred = predict(v, X_test)\n",
        "    print(pred)\n",
        "    prednew[k]=pred\n",
        "    pred_scores_word_vectors.append((k, [accuracy_score(y_test , pred)]))\n",
        "#prednew['SVC']\n"
      ],
      "execution_count": 0,
      "outputs": [
        {
          "output_type": "stream",
          "text": [
            "[0. 0. 0. 0. 0. 0. 0. 0. 0. 0. 0. 0. 1. 0. 0. 0. 0. 0. 0. 0. 0. 1. 0. 0.\n",
            " 0. 0. 0. 1. 0. 0. 0. 1. 0. 0. 0. 1. 0. 0. 0. 0. 0. 1. 0. 1. 0. 0. 0. 1.\n",
            " 0. 0. 0. 0. 0. 0. 1. 0. 0. 0. 1. 1. 0. 0. 1. 0. 1. 1. 0. 0. 0. 0. 0. 0.\n",
            " 0. 0. 0. 0. 1. 0. 0. 0. 0. 0. 0. 0. 0. 0. 0. 0. 1. 0. 0. 0. 0. 0. 0. 0.\n",
            " 0. 0. 1. 0. 0. 0. 0. 0. 0. 0. 0. 0. 0. 0. 1. 0. 0. 0. 1. 0. 0. 0. 1. 0.\n",
            " 1. 0. 0. 0. 0. 0. 0. 0. 1. 0. 0. 0. 0. 0. 0. 0. 0. 0. 0. 0. 0. 0. 1. 1.\n",
            " 0. 0. 1. 1. 1. 1. 0. 0. 0. 0. 0. 0. 0. 1. 0. 1. 0. 0. 0. 0. 0. 1. 0. 0.\n",
            " 0. 0. 0. 1. 1. 0. 0. 0. 1. 0. 0. 0. 0. 0. 0. 0. 0. 0. 0. 1. 0. 0. 1. 0.\n",
            " 0. 1. 0. 0. 0. 0. 0. 0. 0. 0. 0. 0. 0. 0. 0. 0. 0. 0. 0. 0. 0. 0. 0. 0.\n",
            " 0. 0. 0. 0. 0. 0. 0. 0. 0. 0. 0. 0. 0. 0. 0. 0. 0. 0. 0. 1. 0. 0. 0. 0.\n",
            " 0. 0. 1. 0. 0. 1. 0. 0. 0. 0. 0. 0. 0. 0. 1. 1. 0. 0. 0. 0. 0. 0. 0. 0.\n",
            " 0. 1. 0. 0. 0. 1. 0. 0. 1. 0. 0. 1. 0. 0. 0. 0. 0. 1. 0. 0. 0. 0. 0. 1.]\n",
            "[0. 0. 0. 0. 0. 0. 0. 0. 0. 0. 0. 0. 1. 0. 0. 0. 0. 0. 0. 0. 0. 1. 0. 0.\n",
            " 0. 0. 0. 1. 0. 0. 0. 1. 0. 1. 0. 1. 0. 0. 0. 0. 1. 1. 0. 1. 0. 1. 0. 1.\n",
            " 0. 0. 0. 0. 0. 0. 1. 0. 0. 0. 1. 0. 0. 0. 1. 0. 0. 1. 0. 0. 0. 0. 0. 0.\n",
            " 0. 0. 0. 0. 1. 0. 0. 0. 0. 0. 0. 0. 0. 0. 0. 0. 1. 0. 0. 0. 0. 0. 0. 0.\n",
            " 0. 0. 1. 0. 0. 0. 0. 0. 0. 0. 0. 0. 0. 0. 1. 0. 0. 0. 1. 0. 0. 0. 1. 1.\n",
            " 0. 0. 0. 0. 0. 0. 1. 0. 0. 0. 0. 0. 0. 1. 0. 0. 0. 0. 0. 0. 0. 0. 1. 0.\n",
            " 0. 0. 1. 1. 1. 1. 0. 0. 0. 0. 0. 0. 0. 1. 0. 0. 0. 0. 0. 0. 0. 1. 0. 0.\n",
            " 0. 0. 0. 1. 1. 0. 0. 0. 1. 0. 0. 0. 0. 0. 0. 0. 0. 0. 0. 1. 0. 0. 1. 0.\n",
            " 0. 1. 0. 0. 0. 0. 0. 0. 0. 0. 0. 0. 0. 0. 0. 0. 0. 0. 1. 0. 0. 0. 0. 0.\n",
            " 1. 0. 0. 0. 0. 0. 0. 0. 0. 0. 0. 0. 0. 0. 0. 0. 0. 0. 0. 1. 0. 0. 0. 0.\n",
            " 0. 0. 1. 0. 0. 1. 0. 0. 0. 0. 0. 0. 0. 0. 1. 1. 0. 0. 0. 0. 0. 0. 0. 0.\n",
            " 0. 1. 0. 0. 0. 1. 0. 0. 1. 0. 0. 1. 0. 0. 0. 0. 0. 1. 0. 0. 0. 0. 0. 1.]\n"
          ],
          "name": "stdout"
        }
      ]
    },
    {
      "metadata": {
        "id": "_oz16EjkzQ18",
        "colab_type": "code",
        "outputId": "075ff26a-7f16-46d3-c0b1-6057387a2981",
        "colab": {
          "base_uri": "https://localhost:8080/",
          "height": 124
        }
      },
      "cell_type": "code",
      "source": [
        "predictionsbag = pd.DataFrame.from_items(pred_scoresbag_word_vectors,orient='index', columns=['Score'])\n",
        "\n",
        "\n",
        "print(predictionsbag)"
      ],
      "execution_count": 0,
      "outputs": [
        {
          "output_type": "stream",
          "text": [
            "        Score\n",
            "SVC  0.708333\n",
            "NB   0.774306\n"
          ],
          "name": "stdout"
        },
        {
          "output_type": "stream",
          "text": [
            "/usr/local/lib/python3.6/dist-packages/ipykernel_launcher.py:1: FutureWarning: from_items is deprecated. Please use DataFrame.from_dict(dict(items), ...) instead. DataFrame.from_dict(OrderedDict(items)) may be used to preserve the key order.\n",
            "  \"\"\"Entry point for launching an IPython kernel.\n"
          ],
          "name": "stderr"
        }
      ]
    },
    {
      "metadata": {
        "id": "fxz5SZDw1AD_",
        "colab_type": "code",
        "outputId": "a585370f-3782-4cd4-9a23-5ed38927cddb",
        "colab": {
          "base_uri": "https://localhost:8080/",
          "height": 121
        }
      },
      "cell_type": "code",
      "source": [
        "from sklearn.metrics import confusion_matrix\n",
        "from sklearn.metrics import precision_recall_fscore_support\n",
        "for k,v in clfs.items():\n",
        "  print(confusion_matrix(y_test, prednew[k]))\n",
        "  print(precision_recall_fscore_support(y_test, prednew[k],average='macro')) #for Tf-Idf using svm and logistic_regression"
      ],
      "execution_count": 0,
      "outputs": [
        {
          "output_type": "stream",
          "text": [
            "[[192   5]\n",
            " [ 48  43]]\n",
            "(0.8479166666666667, 0.723573380933787, 0.7487117857201653, None)\n",
            "[[193   4]\n",
            " [ 45  46]]\n",
            "(0.8654621848739497, 0.7425949684832933, 0.7699192956713132, None)\n"
          ],
          "name": "stdout"
        }
      ]
    },
    {
      "metadata": {
        "id": "l_lldBQO6zSs",
        "colab_type": "code",
        "outputId": "f79d1c58-d0c3-48e4-9091-3b4d540d9af9",
        "colab": {
          "base_uri": "https://localhost:8080/",
          "height": 124
        }
      },
      "cell_type": "code",
      "source": [
        "\n",
        "predictions = pd.DataFrame.from_items(pred_scores_word_vectors,orient='index', columns=['Score'])\n",
        "\n",
        "\n",
        "print(predictions)"
      ],
      "execution_count": 0,
      "outputs": [
        {
          "output_type": "stream",
          "text": [
            "        Score\n",
            "SVC  0.815972\n",
            "NB   0.829861\n"
          ],
          "name": "stdout"
        },
        {
          "output_type": "stream",
          "text": [
            "/usr/local/lib/python3.6/dist-packages/ipykernel_launcher.py:2: FutureWarning: from_items is deprecated. Please use DataFrame.from_dict(dict(items), ...) instead. DataFrame.from_dict(OrderedDict(items)) may be used to preserve the key order.\n",
            "  \n"
          ],
          "name": "stderr"
        }
      ]
    },
    {
      "metadata": {
        "id": "cALb3qiO3fcu",
        "colab_type": "code",
        "outputId": "65228a84-5bb5-4982-8086-1b80cd383b92",
        "colab": {
          "base_uri": "https://localhost:8080/",
          "height": 121
        }
      },
      "cell_type": "code",
      "source": [
        "from sklearn.metrics import confusion_matrix\n",
        "from sklearn.metrics import precision_recall_fscore_support\n",
        "for k,v in clfs.items():\n",
        "  print(confusion_matrix(yb_test, predbag[k]))\n",
        "  print(precision_recall_fscore_support(yb_test, predbag[k],average='macro'))#for CountVectorizer in svm and logistic Regression\n",
        "  "
      ],
      "execution_count": 0,
      "outputs": [
        {
          "output_type": "stream",
          "text": [
            "[[151  46]\n",
            " [ 38  53]]\n",
            "(0.6671476671476672, 0.6744575221732583, 0.6701390782656123, None)\n",
            "[[164  33]\n",
            " [ 32  59]]\n",
            "(0.739019520851819, 0.7404194789981593, 0.7397071705668878, None)\n"
          ],
          "name": "stdout"
        }
      ]
    },
    {
      "metadata": {
        "id": "Jm0xJ9cpB4bz",
        "colab_type": "code",
        "colab": {}
      },
      "cell_type": "code",
      "source": [
        "def find(p):\n",
        "    if p == 1:\n",
        "        print (\"E-mail is SPAM\")\n",
        "    else:\n",
        "        print (\"E-mail is NOT Spam\")"
      ],
      "execution_count": 0,
      "outputs": []
    },
    {
      "metadata": {
        "id": "RGSXfl0o2Jod",
        "colab_type": "code",
        "outputId": "3cc16c11-b081-425a-89ad-65b74d8570ba",
        "colab": {
          "base_uri": "https://localhost:8080/",
          "height": 34
        }
      },
      "cell_type": "code",
      "source": [
        "text = [\"Free tones Hope you enjoyed your new content\"]\n",
        "integers = bow_vect.transform(text)\n",
        "sp_arr2 = csr_matrix(integers)\n",
        "sdf2 = pd.SparseDataFrame(sp_arr2,default_fill_value=0)\n",
        "p = svc.predict(sdf2)[0]\n",
        "find(p)"
      ],
      "execution_count": 0,
      "outputs": [
        {
          "output_type": "stream",
          "text": [
            "E-mail is SPAM\n"
          ],
          "name": "stdout"
        }
      ]
    },
    {
      "metadata": {
        "id": "EW_ICMLJB_CA",
        "colab_type": "code",
        "colab": {}
      },
      "cell_type": "code",
      "source": [
        "text = [\"Free tones Hope you enjoyed your new content\"]\n",
        "integers = vectorizer.transform(text)\n",
        "sp_arr1 = csr_matrix(integers)\n",
        "sdf1 = pd.SparseDataFrame(sp_arr1,default_fill_value=0)\n"
      ],
      "execution_count": 0,
      "outputs": []
    },
    {
      "metadata": {
        "id": "hT5SoYc5CGzZ",
        "colab_type": "code",
        "outputId": "ffee0373-3b5e-4eee-93d4-3d207bbd0236",
        "colab": {
          "base_uri": "https://localhost:8080/",
          "height": 34
        }
      },
      "cell_type": "code",
      "source": [
        "p = svc.predict(sdf1)[0]\n",
        "find(p)"
      ],
      "execution_count": 0,
      "outputs": [
        {
          "output_type": "stream",
          "text": [
            "E-mail is SPAM\n"
          ],
          "name": "stdout"
        }
      ]
    },
    {
      "metadata": {
        "id": "FDCkxzsY4uqj",
        "colab_type": "code",
        "outputId": "a88262eb-41e3-44f4-e6e8-87af00ad303c",
        "colab": {
          "base_uri": "https://localhost:8080/",
          "height": 106
        }
      },
      "cell_type": "code",
      "source": [
        "cross_validation_svc=[]\n",
        "cross_validation_svc=cross_val_score(svc, Xb_train, yb_train, cv=3, n_jobs=-1)#cross-validation using 3-folds by count vectorizer method using svm\n",
        "print(np.mean(cross_validation_svc))\n",
        "cross_validation_svc=[]\n",
        "cross_validation_svc=cross_val_score(svc, Xb_train, yb_train, cv=5, n_jobs=-1)#cross-validation using 5-folds by count vectorizer method using svm\n",
        "print(np.mean(cross_validation_svc))"
      ],
      "execution_count": 0,
      "outputs": [
        {
          "output_type": "stream",
          "text": [
            "0.7637109626665762\n"
          ],
          "name": "stdout"
        },
        {
          "output_type": "stream",
          "text": [
            "/usr/local/lib/python3.6/dist-packages/sklearn/externals/joblib/externals/loky/process_executor.py:706: UserWarning: A worker stopped while some jobs were given to the executor. This can be caused by a too short worker timeout or by a memory leak.\n",
            "  \"timeout or by a memory leak.\", UserWarning\n"
          ],
          "name": "stderr"
        },
        {
          "output_type": "stream",
          "text": [
            "0.7576284584980237\n"
          ],
          "name": "stdout"
        }
      ]
    },
    {
      "metadata": {
        "id": "bkoSoKy5pppg",
        "colab_type": "code",
        "outputId": "9864b434-7762-49b7-f31c-5626fd8ffe96",
        "colab": {
          "base_uri": "https://localhost:8080/",
          "height": 176
        }
      },
      "cell_type": "code",
      "source": [
        "cross_validation_svc3=[]\n",
        "cross_validation_svc3=cross_val_score(svc, X_train, y_train, cv=3, n_jobs=-1)\n",
        "print(cross_validation_svc3)\n",
        "acc3=np.mean(cross_validation_svc3)\n",
        "print(acc3)\n",
        "cross_validation_svc2=[]\n",
        "cross_validation_svc2=cross_val_score(svc, X_train, y_train, cv=5, n_jobs=-1)#The number of CPUs to use to do the computation.\n",
        "#None means 1 unless in a joblib.parallel_backend context. -1 means using all processors. \n",
        "print(cross_validation_svc2)\n",
        "acc1=np.mean(cross_validation_svc2)\n",
        "print(acc1)\n",
        "#cross-validation using 3-folds and 5-folds  by tf-idf using svm"
      ],
      "execution_count": 0,
      "outputs": [
        {
          "output_type": "stream",
          "text": [
            "/usr/local/lib/python3.6/dist-packages/sklearn/externals/joblib/externals/loky/process_executor.py:706: UserWarning: A worker stopped while some jobs were given to the executor. This can be caused by a too short worker timeout or by a memory leak.\n",
            "  \"timeout or by a memory leak.\", UserWarning\n"
          ],
          "name": "stderr"
        },
        {
          "output_type": "stream",
          "text": [
            "[0.81298701 0.83289817 0.81984334]\n",
            "0.8219095091157754\n"
          ],
          "name": "stdout"
        },
        {
          "output_type": "stream",
          "text": [
            "/usr/local/lib/python3.6/dist-packages/sklearn/externals/joblib/externals/loky/process_executor.py:706: UserWarning: A worker stopped while some jobs were given to the executor. This can be caused by a too short worker timeout or by a memory leak.\n",
            "  \"timeout or by a memory leak.\", UserWarning\n"
          ],
          "name": "stderr"
        },
        {
          "output_type": "stream",
          "text": [
            "[0.81385281 0.84347826 0.82608696 0.82608696 0.80434783]\n",
            "0.8227705627705628\n"
          ],
          "name": "stdout"
        }
      ]
    },
    {
      "metadata": {
        "id": "xHGY8PmmwTZw",
        "colab_type": "code",
        "outputId": "5fbd05e7-8ace-4784-8715-a489f00b80f4",
        "colab": {
          "base_uri": "https://localhost:8080/",
          "height": 106
        }
      },
      "cell_type": "code",
      "source": [
        "cross_validation_lr1=[]\n",
        "cross_validation_lr1=cross_val_score(mnb,X_train, y_train, cv=3, n_jobs=-1)\n",
        "print(np.mean(cross_validation_lr1))\n",
        "cross_validation_lr2=[]\n",
        "cross_validation_lr2=cross_val_score(mnb, X_train, y_train, cv=5, n_jobs=-1)    \n",
        "print(np.mean(cross_validation_lr2))\n",
        "#cross-validation for naive-bayes using folds 3 and 5 for tf-idf"
      ],
      "execution_count": 0,
      "outputs": [
        {
          "output_type": "stream",
          "text": [
            "/usr/local/lib/python3.6/dist-packages/sklearn/externals/joblib/externals/loky/process_executor.py:706: UserWarning: A worker stopped while some jobs were given to the executor. This can be caused by a too short worker timeout or by a memory leak.\n",
            "  \"timeout or by a memory leak.\", UserWarning\n"
          ],
          "name": "stderr"
        },
        {
          "output_type": "stream",
          "text": [
            "0.8236411108473772\n",
            "0.8262337662337662\n"
          ],
          "name": "stdout"
        }
      ]
    },
    {
      "metadata": {
        "id": "HgVBdl7liqTi",
        "colab_type": "code",
        "outputId": "ced816bf-7628-4ce3-cc69-5e69cea214b7",
        "colab": {
          "base_uri": "https://localhost:8080/",
          "height": 141
        }
      },
      "cell_type": "code",
      "source": [
        "cross_validation_lr1=[]\n",
        "cross_validation_lr1=cross_val_score(mnb, Xb_train, yb_train, cv=3, n_jobs=-1)\n",
        "print(np.mean(cross_validation_lr1))\n",
        "cross_validation_lr2=[]\n",
        "cross_validation_lr2=cross_val_score(mnb, Xb_train, yb_train, cv=5, n_jobs=-1)\n",
        "print(np.mean(cross_validation_lr2))\n",
        "#cross-validation for naive-bayes using folds 3 and 5 for CountVectorizer"
      ],
      "execution_count": 0,
      "outputs": [
        {
          "output_type": "stream",
          "text": [
            "/usr/local/lib/python3.6/dist-packages/sklearn/externals/joblib/externals/loky/process_executor.py:706: UserWarning: A worker stopped while some jobs were given to the executor. This can be caused by a too short worker timeout or by a memory leak.\n",
            "  \"timeout or by a memory leak.\", UserWarning\n"
          ],
          "name": "stderr"
        },
        {
          "output_type": "stream",
          "text": [
            "0.7862353486374373\n"
          ],
          "name": "stdout"
        },
        {
          "output_type": "stream",
          "text": [
            "/usr/local/lib/python3.6/dist-packages/sklearn/externals/joblib/externals/loky/process_executor.py:706: UserWarning: A worker stopped while some jobs were given to the executor. This can be caused by a too short worker timeout or by a memory leak.\n",
            "  \"timeout or by a memory leak.\", UserWarning\n"
          ],
          "name": "stderr"
        },
        {
          "output_type": "stream",
          "text": [
            "0.7784490871447394\n"
          ],
          "name": "stdout"
        }
      ]
    },
    {
      "metadata": {
        "id": "RAtF1ZWtkMMF",
        "colab_type": "code",
        "outputId": "43a63ab0-f7f8-448a-e942-5093e1f92c86",
        "colab": {
          "base_uri": "https://localhost:8080/",
          "height": 469
        }
      },
      "cell_type": "code",
      "source": [
        "predictions.plot(kind='bar', ylim=(0.5,1.0), figsize=(9,6), align='center', colormap=\"Accent\")\n",
        "plt.xticks(np.arange(2), predictions.index)\n",
        "print(predictions)\n",
        "plt.ylabel('Accuracy Score')\n",
        "plt.title('Distribution by Classifier')\n",
        "plt.legend(bbox_to_anchor=(1.05, 1), loc=2, borderaxespad=0.) #Distribution by classifier for TF-IDF"
      ],
      "execution_count": 0,
      "outputs": [
        {
          "output_type": "stream",
          "text": [
            "        Score\n",
            "SVC  0.815972\n",
            "NB   0.829861\n"
          ],
          "name": "stdout"
        },
        {
          "output_type": "execute_result",
          "data": {
            "text/plain": [
              "<matplotlib.legend.Legend at 0x7fc85ce1c438>"
            ]
          },
          "metadata": {
            "tags": []
          },
          "execution_count": 118
        },
        {
          "output_type": "display_data",
          "data": {
            "image/png": "[encoded data removed]",
            "text/plain": [
              "<Figure size 648x432 with 1 Axes>"
            ]
          },
          "metadata": {
            "tags": []
          }
        }
      ]
    },
    {
      "metadata": {
        "id": "yo2Zm4IyoQ1i",
        "colab_type": "code",
        "outputId": "a16f4b68-af3d-4820-e073-b84412d76c88",
        "colab": {
          "base_uri": "https://localhost:8080/",
          "height": 469
        }
      },
      "cell_type": "code",
      "source": [
        "predictionsbag.plot(kind='bar', ylim=(0.5,0.9), figsize=(9,6), align='center', colormap=\"Accent\")\n",
        "plt.xticks(np.arange(2), predictions.index)\n",
        "print(predictionsbag)\n",
        "plt.ylabel('Accuracy Score')\n",
        "plt.title('Distribution by Classifier')\n",
        "plt.legend(bbox_to_anchor=(1.05, 1), loc=2, borderaxespad=0.) #Distribution by classifier for CountVectorizer"
      ],
      "execution_count": 0,
      "outputs": [
        {
          "output_type": "stream",
          "text": [
            "        Score\n",
            "SVC  0.708333\n",
            "NB   0.774306\n"
          ],
          "name": "stdout"
        },
        {
          "output_type": "execute_result",
          "data": {
            "text/plain": [
              "<matplotlib.legend.Legend at 0x7fc869da6ba8>"
            ]
          },
          "metadata": {
            "tags": []
          },
          "execution_count": 119
        },
        {
          "output_type": "display_data",
          "data": {
            "image/png": "[encoded data removed]",
            "text/plain": [
              "<Figure size 648x432 with 1 Axes>"
            ]
          },
          "metadata": {
            "tags": []
          }
        }
      ]
    }
  ]
}